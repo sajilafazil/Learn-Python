{
  "nbformat": 4,
  "nbformat_minor": 0,
  "metadata": {
    "colab": {
      "name": "TASK1",
      "provenance": [],
      "include_colab_link": true
    },
    "kernelspec": {
      "name": "python3",
      "display_name": "Python 3"
    },
    "language_info": {
      "name": "python"
    }
  },
  "cells": [
    {
      "cell_type": "markdown",
      "metadata": {
        "id": "view-in-github",
        "colab_type": "text"
      },
      "source": [
        "<a href=\"https://colab.research.google.com/github/sajilafazil/Learn-Python/blob/main/TASK1.ipynb\" target=\"_parent\"><img src=\"https://colab.research.google.com/assets/colab-badge.svg\" alt=\"Open In Colab\"/></a>"
      ]
    },
    {
      "cell_type": "markdown",
      "metadata": {
        "id": "q-yWxfWESiQo"
      },
      "source": [
        "1.Write a program that uses input to prompt a user for their name and then welcomes them."
      ]
    },
    {
      "cell_type": "code",
      "metadata": {
        "id": "9ikpRxqMSxu0",
        "colab": {
          "base_uri": "https://localhost:8080/"
        },
        "outputId": "2477a306-262c-4964-d26e-b893e957f9e1"
      },
      "source": [
        "a=input(\"Enter Your Name:\")\n",
        " \n",
        "print(\"Hello\",a)\n",
        " \n",
        "print(\"Welcome to my repo!\")"
      ],
      "execution_count": 20,
      "outputs": [
        {
          "output_type": "stream",
          "text": [
            "Enter Your Name:Sajila\n",
            "Hello Sajila\n",
            "Welcome to my repo!\n"
          ],
          "name": "stdout"
        }
      ]
    },
    {
      "cell_type": "markdown",
      "metadata": {
        "id": "Ay5OdxguS-2Z"
      },
      "source": [
        "2.Write a program which prompts the user for a Celsius temperature, convert the temperature to Fahrenheit, and print out the converted temperature."
      ]
    },
    {
      "cell_type": "code",
      "metadata": {
        "id": "MMv2yWNtTgEu",
        "colab": {
          "base_uri": "https://localhost:8080/"
        },
        "outputId": "ee823fde-e097-4a18-90ca-bcb704deabe3"
      },
      "source": [
        "celsius=float(input(\"Enter temperature in celsius:\"))\n",
        " \n",
        "fahren=float(celsius*1.80+32)\n",
        " \n",
        "print(celsius,\"°C is\",fahren,\"°F\")"
      ],
      "execution_count": 21,
      "outputs": [
        {
          "output_type": "stream",
          "text": [
            "Enter temperature in celsius:-2\n",
            "-2.0 °C is 28.4 °F\n"
          ],
          "name": "stdout"
        }
      ]
    },
    {
      "cell_type": "markdown",
      "metadata": {
        "id": "v6O1a198TpNd"
      },
      "source": [
        "3.Write a Python program to convert degree to radian."
      ]
    },
    {
      "cell_type": "code",
      "metadata": {
        "id": "27Jj4_D0UQBA",
        "colab": {
          "base_uri": "https://localhost:8080/"
        },
        "outputId": "f2798657-50cc-499d-8990-95cb14f78bbb"
      },
      "source": [
        "pi=3.14\n",
        "degree=float(input(\"Enter The degree:\"))\n",
        "rad=degree*pi/180\n",
        "print(degree,\"degree is equal to\",\"%.4f\"%rad,\"Radian\")"
      ],
      "execution_count": 23,
      "outputs": [
        {
          "output_type": "stream",
          "text": [
            "Enter The degree:2\n",
            "2.0 degree is equal to 0.0349 Radian\n",
            "Enter The degree:1\n",
            "1.0 degree is equal to 0.0174 Radian\n"
          ],
          "name": "stdout"
        }
      ]
    }
  ]
}