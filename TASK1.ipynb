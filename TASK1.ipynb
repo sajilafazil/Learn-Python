{
  "nbformat": 4,
  "nbformat_minor": 0,
  "metadata": {
    "colab": {
      "name": "TASK1",
      "provenance": []
    },
    "kernelspec": {
      "name": "python3",
      "display_name": "Python 3"
    },
    "language_info": {
      "name": "python"
    }
  },
  "cells": [
    {
      "cell_type": "markdown",
      "metadata": {
        "id": "q-yWxfWESiQo"
      },
      "source": [
        "1.Write a program that uses input to prompt a user for their name and then welcomes them."
      ]
    },
    {
      "cell_type": "code",
      "metadata": {
        "id": "9ikpRxqMSxu0",
        "colab": {
          "base_uri": "https://localhost:8080/"
        },
        "outputId": "f5777f6d-73de-46c3-d8e3-3fa7e053dc46"
      },
      "source": [
        "a=input(\"Enter Your Name:\")\n",
        " \n",
        "print(\"Hello\",a)\n",
        " \n",
        "print(\"Welcome to my repo!\")"
      ],
      "execution_count": 2,
      "outputs": [
        {
          "output_type": "stream",
          "text": [
            "Enter Your Name:fazil\n",
            "Hello fazil\n",
            "Welcome to my repo!\n"
          ],
          "name": "stdout"
        }
      ]
    },
    {
      "cell_type": "markdown",
      "metadata": {
        "id": "Ay5OdxguS-2Z"
      },
      "source": [
        "2.Write a program which prompts the user for a Celsius temperature, convert the temperature to Fahrenheit, and print out the converted temperature."
      ]
    },
    {
      "cell_type": "code",
      "metadata": {
        "id": "MMv2yWNtTgEu",
        "colab": {
          "base_uri": "https://localhost:8080/"
        },
        "outputId": "820f592b-f008-4b6d-b958-a8ae7024b11e"
      },
      "source": [
        "celsius=float(input(\"Enter temperature in celsius:\"))\n",
        " \n",
        "fahren=float(celsius*1.80+32)\n",
        " \n",
        "print(celsius,\"°C is\",fahren,\"°F\")"
      ],
      "execution_count": 14,
      "outputs": [
        {
          "output_type": "stream",
          "text": [
            "Enter temperature in celsius:6.6\n",
            "6.6 °C is 43.879999999999995 °F\n"
          ],
          "name": "stdout"
        }
      ]
    },
    {
      "cell_type": "markdown",
      "metadata": {
        "id": "v6O1a198TpNd"
      },
      "source": [
        "3.Write a Python program to convert degree to radian."
      ]
    },
    {
      "cell_type": "code",
      "metadata": {
        "id": "27Jj4_D0UQBA",
        "colab": {
          "base_uri": "https://localhost:8080/"
        },
        "outputId": "16f1f670-04d5-43c5-aece-ca08e9f37f4c"
      },
      "source": [
        "pi=3.14\n",
        "degree=float(input(\"Enter The degree:\"))\n",
        "rad=degree*pi/180\n",
        "print(degree,\"degree is equal to\",\"%.4f\"%rad,\"Radian\")"
      ],
      "execution_count": 19,
      "outputs": [
        {
          "output_type": "stream",
          "text": [
            "Enter The degree:45\n",
            "45.0 degree is equal to 0.7850 Radian\n"
          ],
          "name": "stdout"
        }
      ]
    }
  ]
}